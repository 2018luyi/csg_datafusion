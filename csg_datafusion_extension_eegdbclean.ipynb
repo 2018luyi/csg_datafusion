{
 "cells": [
  {
   "cell_type": "markdown",
   "metadata": {},
   "source": [
    "# EEG db cleaner\n",
    "v0.0.2\n",
    "By Stephen Karl Larroque\n",
    "License: MIT"
   ]
  },
  {
   "cell_type": "code",
   "execution_count": null,
   "metadata": {},
   "outputs": [],
   "source": [
    "# Forcefully autoreload all python modules\n",
    "%load_ext autoreload\n",
    "%autoreload 2"
   ]
  },
  {
   "cell_type": "code",
   "execution_count": null,
   "metadata": {},
   "outputs": [],
   "source": [
    "# AUX FUNCTIONS\n",
    "\n",
    "import os, sys\n",
    "\n",
    "cur_path = os.path.realpath('.')\n",
    "sys.path.append(os.path.join(cur_path, 'csg_fileutil_libs'))  # for unidecode and cleanup_name, because it does not support relative paths (yet?)\n",
    "\n",
    "import re\n",
    "\n",
    "from collections import OrderedDict\n",
    "from csg_fileutil_libs.aux_funcs import save_df_as_csv, _tqdm, merge_two_df, df_remap_names, concat_vals, df_literal_eval, df_to_unicode, df_to_unicode_fast, reorder_cols_df, df_encode\n"
   ]
  },
  {
   "cell_type": "code",
   "execution_count": null,
   "metadata": {},
   "outputs": [],
   "source": [
    "# PARAMETERS\n",
    "\n",
    "# Input EEG database\n",
    "eeg_db = r'databases_original\\EEG_database_complete.xlsx'\n",
    "eeg_db_to_unicode = True\n",
    "\n",
    "# Output cleaned database\n",
    "out_db = r'databases_output\\eggdbclean.csv'"
   ]
  },
  {
   "cell_type": "code",
   "execution_count": null,
   "metadata": {},
   "outputs": [],
   "source": [
    "import pandas as pd\n",
    "\n",
    "# Load first database\n",
    "if eeg_db.endswith('.csv'):\n",
    "    ceeg = pd.read_csv(eeg_db, sep=';', low_memory=False).dropna(how='all')\n",
    "else:\n",
    "    ceeg = pd.read_excel(eeg_db).dropna(how='all')\n",
    "if eeg_db_to_unicode:  # convert to unicode if required (can fix issues with accentuated characters)\n",
    "    ceeg = df_to_unicode_fast(ceeg, progress_bar=True)\n",
    "ceeg"
   ]
  },
  {
   "cell_type": "code",
   "execution_count": null,
   "metadata": {},
   "outputs": [],
   "source": [
    "# Extract names\n",
    "\n",
    "def camel_case_split(identifier):\n",
    "    # Split a mixed case string into a list\n",
    "    # By 200_success: https://stackoverflow.com/a/29920015\n",
    "    matches = re.finditer('.+?(?:(?<=[a-z])(?=[A-Z])|(?<=[A-Z])(?=[A-Z][a-z])|$)', identifier)\n",
    "    return [m.group(0) for m in matches]\n",
    "def split_oldcode(x):\n",
    "    if pd.isnull(x):\n",
    "        return None\n",
    "    else:\n",
    "        # Get only the first part of the string\n",
    "        s = x.split('_')[0] \n",
    "        # Test if camel case\n",
    "        if not (s.islower() or s.isupper()):\n",
    "            s = ' '.join(camel_case_split(s))\n",
    "        return s\n",
    "\n",
    "# First try to recompose the full name from last name and first name if present\n",
    "ceeg.loc[:, 'name'] = ceeg.loc[:, ['Last name', 'First name']].apply(lambda x: ' '.join(x).strip() if not (pd.isnull(x[0]) and pd.isnull(x[1])) else None, axis=1)\n",
    "# Else try to convert the old code into a full name (or at least the last name), first by splitting on '_', then by adding space between mixed case words (which indicates a composite name)\n",
    "ceeg.loc[ceeg['name'].isnull() & ~ceeg['Old code'].isnull(), 'name'] = ceeg.loc[:, 'Old code'].apply(split_oldcode)\n",
    "# Display the result\n",
    "ceeg.loc[:, ['Last name', 'First name', 'Old code', 'name']]"
   ]
  },
  {
   "cell_type": "code",
   "execution_count": null,
   "metadata": {},
   "outputs": [],
   "source": [
    "# Add a column to signal that eeg is available for all these subjects\n",
    "ceeg.loc[:, 'hasEEG'] = True"
   ]
  },
  {
   "cell_type": "code",
   "execution_count": null,
   "metadata": {},
   "outputs": [],
   "source": [
    "# Save the merge mapping and unified database as csv files\n",
    "ceeg_unicode = df_to_unicode_fast(ceeg)\n",
    "if save_df_as_csv(ceeg_unicode, out_db, fields_order=False, csv_order_by='name'):\n",
    "    print('Cleaned EEG database successfully saved in %s!' % out_db)\n",
    "else:\n",
    "    print('ERROR: the cleaned EEG database could not be saved!')"
   ]
  }
 ],
 "metadata": {
  "kernelspec": {
   "display_name": "Python 2",
   "language": "python",
   "name": "python2"
  },
  "language_info": {
   "codemirror_mode": {
    "name": "ipython",
    "version": 2
   },
   "file_extension": ".py",
   "mimetype": "text/x-python",
   "name": "python",
   "nbconvert_exporter": "python",
   "pygments_lexer": "ipython2",
   "version": "2.7.16"
  }
 },
 "nbformat": 4,
 "nbformat_minor": 2
}
