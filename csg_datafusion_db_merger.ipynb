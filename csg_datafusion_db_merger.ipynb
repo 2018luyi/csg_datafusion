{
 "cells": [
  {
   "cell_type": "markdown",
   "metadata": {},
   "source": [
    "# CSV Databases Merger\n",
    "By Stephen Karl Larroque @ Coma Science Group, GIGA Research, University of Liege\n",
    "Creation date: 2018-05-27\n",
    "License: MIT\n",
    "v1.2.9\n",
    "2018-2019\n",
    "\n",
    "DESCRIPTION:\n",
    "Generic tool to merge two CSV databases based on the subject's name (hence expecting a column 'name' in each csv file).\n",
    "This script will take care of fuzzy matching names and append all columns of each csv file, hence centralizing all informations into one file.\n",
    "\n",
    "Note: in case of multiple names/lines matching, they will all be concatenated into a single line: if one name in one of the two databases match multiple names/lines of the second database, then the second databases lines will be concatenated into one. In the opposite case (second database's name match multiple names in first database), the same holds.\n",
    "\n",
    "INSTALL NOTE:\n",
    "You need to pip install pandas before launching this script.\n",
    "Tested on Python 2.7.13\n",
    "\n",
    "USAGE:\n",
    "\n",
    "TODO:\n",
    "* Allow multiple keys for merge (and different keys, eg one with name and the other with [name, dicom date]"
   ]
  },
  {
   "cell_type": "code",
   "execution_count": null,
   "metadata": {},
   "outputs": [],
   "source": [
    "# Forcefully autoreload all python modules\n",
    "%load_ext autoreload\n",
    "%autoreload 2"
   ]
  },
  {
   "cell_type": "code",
   "execution_count": null,
   "metadata": {},
   "outputs": [],
   "source": [
    "# AUX FUNCTIONS\n",
    "\n",
    "import os, sys\n",
    "\n",
    "cur_path = os.path.realpath('.')\n",
    "sys.path.append(os.path.join(cur_path, 'csg_fileutil_libs'))  # for unidecode and cleanup_name, because it does not support relative paths (yet?)\n",
    "\n",
    "import re\n",
    "\n",
    "from csg_fileutil_libs.aux_funcs import save_df_as_csv, _tqdm, merge_two_df, df_remap_names, concat_vals, df_literal_eval, df_to_unicode_fast\n"
   ]
  },
  {
   "cell_type": "code",
   "execution_count": null,
   "metadata": {},
   "outputs": [],
   "source": [
    "# PARAMETERS\n",
    "\n",
    "# First (ID) database to merge (both need to have a column 'name'). The merged 'name' column will use the names from this database.\n",
    "id_db = r'databases_original\\patients-sedation-2018-checked-by-Stephen-from-archives_v7_2018-10-18_full-names-merged.csv'\n",
    "# Second (reference) database to merge. The names will be added as a new column 'name_altx'.\n",
    "ref_db = r'databases_output\\fmp_db_subjects_aggregated.csv_etiosedatfixed_dicomsdatediag_dicompathsedat.csv_acute.csv'\n",
    "# Output database with the merge results\n",
    "out_db = r'databases_output\\merged_db.csv'\n",
    "\n",
    "# Similarity search parameters (of names in both databases)\n",
    "dist_threshold = 0.2 # character distance (normalized on 1 over the total number of characters = jaccard distance), lower is more similar, default: 0.2\n",
    "dist_words_threshold = 0.4 # words distance (normalized idem but on number of words), default: 0.2\n",
    "keep_lastname_only = False # keep only the lastname? (supposed to be the first word) - this can enhance the matching if there are too many false positives, particularly if one database only include the last name but the other one has the full name\n",
    "\n",
    "# Additional options\n",
    "rename_columns_per_csv = ['steph.', 'fmpagg.']  # rename each column by prepending the csv file from where the column comes from. True will use the first 3 letters from the filename, or a list of 2 string prefixes can be provided, or False to disable renaming\n"
   ]
  },
  {
   "cell_type": "code",
   "execution_count": null,
   "metadata": {},
   "outputs": [],
   "source": [
    "import pandas as pd\n",
    "\n",
    "# Load first database\n",
    "cref = pd.read_csv(ref_db, sep=';').dropna(how='all')\n",
    "cref"
   ]
  },
  {
   "cell_type": "code",
   "execution_count": null,
   "metadata": {},
   "outputs": [],
   "source": [
    "cid = pd.read_csv(id_db, sep=';').dropna(how='all')\n",
    "cid"
   ]
  },
  {
   "cell_type": "code",
   "execution_count": null,
   "metadata": {},
   "outputs": [],
   "source": [
    "# Prepare prefix for columns renaming if rane_columns_per_csv is enabled\n",
    "# We use the first 3 characters of each path plus a dot\n",
    "# The user can also specify its own list of prefixes\n",
    "if rename_columns_per_csv is True:\n",
    "    prependcols = [os.path.basename(os.path.normpath(db))[:3]+'.' for db in [id_db, ref_db]]\n",
    "elif isinstance(rename_columns_per_csv, list) and len(rename_columns_per_csv) == 2:\n",
    "    prependcols = rename_columns_per_csv\n",
    "else:\n",
    "    prependcols = None\n",
    "prependcols"
   ]
  },
  {
   "cell_type": "code",
   "execution_count": null,
   "metadata": {
    "scrolled": true
   },
   "outputs": [],
   "source": [
    "# Merge both databases if name matches (here we extract the names/indices where they match)\n",
    "cmerge, cfinal = merge_two_df(cid, cref, col='name', mode=0, dist_threshold=dist_threshold, dist_words_threshold=dist_words_threshold, skip_sanity=True, keep_nulls=True, returnmerged=True, prependcols=prependcols)"
   ]
  },
  {
   "cell_type": "code",
   "execution_count": null,
   "metadata": {},
   "outputs": [],
   "source": [
    "# Show the merge mapping\n",
    "cmerge"
   ]
  },
  {
   "cell_type": "code",
   "execution_count": null,
   "metadata": {},
   "outputs": [],
   "source": [
    "# Show the merged result\n",
    "cfinal"
   ]
  },
  {
   "cell_type": "code",
   "execution_count": null,
   "metadata": {},
   "outputs": [],
   "source": [
    "if save_df_as_csv(df_to_unicode_fast(cfinal.reset_index()), out_db, fields_order=list(cfinal.columns), csv_order_by='name'):\n",
    "    print('Merged database successfully saved in %s!' % out_db)\n",
    "else:\n",
    "    print('ERROR: the merged database could not be saved!')"
   ]
  }
 ],
 "metadata": {
  "kernelspec": {
   "display_name": "Python 2",
   "language": "python",
   "name": "python2"
  },
  "language_info": {
   "codemirror_mode": {
    "name": "ipython",
    "version": 2
   },
   "file_extension": ".py",
   "mimetype": "text/x-python",
   "name": "python",
   "nbconvert_exporter": "python",
   "pygments_lexer": "ipython2",
   "version": "2.7.15"
  }
 },
 "nbformat": 4,
 "nbformat_minor": 2
}
