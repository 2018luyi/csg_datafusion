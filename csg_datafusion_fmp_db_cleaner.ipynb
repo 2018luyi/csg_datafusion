{
 "cells": [
  {
   "cell_type": "markdown",
   "metadata": {},
   "source": [
    "# FMP DB cleaner\n",
    "By Stephen Larroque @ Coma Science Group, GIGA Research, University of Liege\n",
    "Creation date: 2018-02-15\n",
    "License: MIT\n",
    "v1.2.3\n",
    "2018-2019\n",
    "\n",
    "DESCRIPTION:\n",
    "This script compiles all CRS-R sessions of one subject in one row, extracting the best diagnosis and detecting misdiagnosis. It also cleans buggy rows/columns so that everything is easier to process in subsequent notebooks.\n",
    "\n",
    "INSTALL NOTE:\n",
    "You need to pip install pandas before launching this script.\n",
    "Tested on Python 2.7.15\n",
    "\n",
    "USAGE:\n",
    "Export all records and columns from the FileMakerPro interface into a CSV file, and input this file here.\n",
    "\n",
    "TODO:\n",
    "\n",
    "    * X Keep rows per CRS-R (use hierarchical index on name) so we can easily process per crs-r\n",
    "    * X CRS-R 2 & 3 if non null rename as CRS-R 1 and add as additional rows (copy date, means that multiple CRS-R were performed on same day)\n",
    "    * X extract CRS-R table separately from other fields? other fields are one row, CRS-R only are multiple rows.\n",
    "    * X make one column \"subscore\" summary in one field eg 123456. If non integer then just replace by X\n",
    "    * X Can concatenate CRS-R on one row and one field: dict with key = date and value = subitem scores. Then no loss of info.\n",
    "    * X implement Sarah's rules to detect misdiagnosis."
   ]
  },
  {
   "cell_type": "code",
   "execution_count": null,
   "metadata": {},
   "outputs": [],
   "source": [
    "# Forcefully autoreload all python modules\n",
    "%load_ext autoreload\n",
    "%autoreload 2"
   ]
  },
  {
   "cell_type": "code",
   "execution_count": null,
   "metadata": {},
   "outputs": [],
   "source": [
    "# AUX FUNCTIONS\n",
    "\n",
    "import os, sys\n",
    "\n",
    "cur_path = os.path.realpath('.')\n",
    "sys.path.append(os.path.join(cur_path, 'csg_fileutil_libs'))  # for unidecode and cleanup_name, because it does not support relative paths (yet?)\n",
    "\n",
    "import re\n",
    "\n",
    "from csg_fileutil_libs.aux_funcs import save_df_as_csv, _tqdm, compute_best_diag, reorder_cols_df, find_columns_matching, concat_strings, concat_vals_unique, df_to_unicode, df_to_unicode_fast, df_subscores_concat\n"
   ]
  },
  {
   "cell_type": "code",
   "execution_count": null,
   "metadata": {},
   "outputs": [],
   "source": [
    "# PARAMETERS\n",
    "\n",
    "# FileMakerPro (FMP) database\n",
    "fmp_csv = r'databases_original\\fmp-db-export_2018-01-15-reordered2.csv'\n",
    "# Directory where to save resulting csv files\n",
    "output_dir = r'databases_output'"
   ]
  },
  {
   "cell_type": "code",
   "execution_count": null,
   "metadata": {},
   "outputs": [],
   "source": [
    "# AUX FUNCTIONS\n",
    "\n",
    "# Moved to aux file"
   ]
  },
  {
   "cell_type": "code",
   "execution_count": null,
   "metadata": {},
   "outputs": [],
   "source": [
    "import pandas as pd\n",
    "import numpy as np\n",
    "\n",
    "cf = pd.read_csv(fmp_csv, sep=';', low_memory=False).dropna(axis=0, how='all')  # drop empty lines\n",
    "cf = df_to_unicode_fast(cf, progress_bar=True)\n",
    "cf"
   ]
  },
  {
   "cell_type": "code",
   "execution_count": null,
   "metadata": {},
   "outputs": [],
   "source": [
    "# Drop weird columns that does not bring any info (the info is either redundant or constant)\n",
    "cf.drop(columns=['CRSr::PatientIDMERGEFIELD', 'CRSr::PatientNAMEMERGEFIELD', 'CRSr::consistent movement to commandtest'], inplace=True)"
   ]
  },
  {
   "cell_type": "code",
   "execution_count": null,
   "metadata": {},
   "outputs": [],
   "source": [
    "# Extract CRS-R fields in a separate column\n",
    "cf_crsr_columns = find_columns_matching(cf, ['crsr', 'crs-r'])\n",
    "print(cf_crsr_columns)\n",
    "cf_crsr = cf[['Name'] + cf_crsr_columns]\n",
    "cf_crsr"
   ]
  },
  {
   "cell_type": "code",
   "execution_count": null,
   "metadata": {},
   "outputs": [],
   "source": [
    "# Drop empty rows (not even a date!)\n",
    "cf_crsr = cf_crsr.dropna(axis=0, how='all')\n",
    "# Fill missing name for consecutive CRS-Rs: this is how FileMakerPro works, the name is set only for the first row, then it is empty to imply it is the same until a new name shows up\n",
    "cf_crsr.loc[:, 'Name'].fillna(method='ffill', inplace=True)\n",
    "cf_crsr"
   ]
  },
  {
   "cell_type": "code",
   "execution_count": null,
   "metadata": {},
   "outputs": [],
   "source": [
    "# Extract unique patients details (unique in the sense that one row = one patient's data) by removing CRS-Rs\n",
    "cf.drop(columns=cf_crsr_columns, inplace=True)\n",
    "cf"
   ]
  },
  {
   "cell_type": "code",
   "execution_count": null,
   "metadata": {},
   "outputs": [],
   "source": [
    "# Drop empty rows (after removing CRS-Rs)\n",
    "cf.dropna(axis=0, how='all', inplace=True)\n",
    "# Show rows where there is still info (eg, PET)\n",
    "cf.loc[pd.isnull(cf['Name'])]"
   ]
  },
  {
   "cell_type": "code",
   "execution_count": null,
   "metadata": {},
   "outputs": [],
   "source": [
    "# Fill missing name for additional infos such as PET\n",
    "cf.loc[:, 'Name'].fillna(method='ffill', inplace=True)"
   ]
  },
  {
   "cell_type": "code",
   "execution_count": null,
   "metadata": {},
   "outputs": [],
   "source": [
    "# Aggregate together in one row the additional infos, so we have all the infos and one row per patient (but we don't have the date of PET scan but at least we know the existence)\n",
    "cf_agg = cf.groupby('Name').agg(concat_vals_unique)\n",
    "cf_agg"
   ]
  },
  {
   "cell_type": "code",
   "execution_count": null,
   "metadata": {},
   "outputs": [],
   "source": [
    "# Find all subjects where all infos are missing in the db except the name\n",
    "cf_agg_missing_all = cf_agg.loc[cf_agg.drop(columns='PatientID').isnull().all(axis=1)]  # need to drop patientid which is an automatic field automatically added by FMP\n",
    "save_df_as_csv(df_to_unicode(cf_agg_missing_all.reset_index()), os.path.join(output_dir, 'fmp_db_subjects_missing_all_infos.csv'), fields_order=['Name'], csv_order_by='Name')  # use reset_index() to put the Name back as a column instead of index\n",
    "print('Saved in fmp_db_subjects_missing_all_infos.csv')\n",
    "cf_agg_missing_all"
   ]
  },
  {
   "cell_type": "code",
   "execution_count": null,
   "metadata": {},
   "outputs": [],
   "source": [
    "# Remove patients with null infos from both dataframes\n",
    "if len(cf_agg_missing_all.index) > 0:\n",
    "    cf_agg.drop(labels=cf_agg_missing_all.index, inplace=True)\n",
    "    try:\n",
    "        cf_crsr.drop(labels=cf_agg_missing_all.index, inplace=True)\n",
    "    except (ValueError, KeyError) as exc:\n",
    "        pass"
   ]
  },
  {
   "cell_type": "code",
   "execution_count": null,
   "metadata": {},
   "outputs": [],
   "source": [
    "# Stack CRSr 2/3 columns as rows and rename as CRSr (copy the date of CRSr over)\n",
    "cf_crsr_columns2 = find_columns_matching(cf_crsr, 'CRSr 2')\n",
    "cf_crsr_columns3 = find_columns_matching(cf_crsr, 'CRSr 3')\n",
    "# Extract the columns as separate dataframes\n",
    "cf_crsr2 = cf_crsr[['Name'] + cf_crsr_columns2]\n",
    "cf_crsr3 = cf_crsr[['Name'] + cf_crsr_columns3]\n",
    "# Drop empty rows\n",
    "cf_crsr2 = cf_crsr2.set_index('Name').dropna(axis=0, how='all')\n",
    "cf_crsr3 = cf_crsr3.set_index('Name').dropna(axis=0, how='all')\n",
    "# Rename columns\n",
    "cf_crsr2.columns = [x.replace('CRSr 2', 'CRSr') for x in cf_crsr2.columns]\n",
    "cf_crsr3.columns = [x.replace('CRSr 3', 'CRSr') for x in cf_crsr2.columns]\n",
    "# Append back into original dataframe\n",
    "cf_crsr_all = pd.concat([cf_crsr.drop(columns=cf_crsr_columns2 + cf_crsr_columns3), cf_crsr2.reset_index(), cf_crsr3.reset_index()], sort=True)\n",
    "assert(not [x for x in cf_crsr.drop(columns=cf_crsr_columns2 + cf_crsr_columns3).columns if x not in cf_crsr_all.columns]) # check we are not losing any column in the merge\n",
    "# Clean up a bit by trimming empty rows (eg, only CRSr 3::* was filled but not CRSr::*, then we will be left with empty CRSr::*)\n",
    "# Note: this will also drop subjects that have no CRS-R at all\n",
    "cf_crsr_all = cf_crsr_all.set_index('Name').dropna(axis=0, how='all').reset_index()\n",
    "# Change the index by Name and Date\n",
    "cf_crsr_all = cf_crsr_all.set_index(['Name', 'CRSr::Date of CRSr'])\n",
    "# Display the result\n",
    "cf_crsr_all"
   ]
  },
  {
   "cell_type": "code",
   "execution_count": null,
   "metadata": {},
   "outputs": [],
   "source": [
    "# Create CRS-R subscores summary (eg, 123456)\n",
    "cf_crsr_all = df_subscores_concat(cf_crsr_all, cols=['CRSr::Auditory Total Score', 'CRSr::Visual Total Score', 'CRSr::Motor Total Score', 'CRSr::Oromotor Total Score', 'CRSr::communication Total Score', 'CRSr::Arousal Total Score'], col_out='CRSr::Subscores')\n",
    "cf_crsr_all"
   ]
  },
  {
   "cell_type": "code",
   "execution_count": null,
   "metadata": {},
   "outputs": [],
   "source": [
    "# Reorder the columns of the CRS-R dataframe, will be easier to have a quick look\n",
    "reorder_cols = ['CRSr::Diagnosis', 'CRSr::Computed Outcome', 'CRSr::Subscores','CRSr::Auditory Total Score', 'CRSr::Visual Total Score', 'CRSr::Motor Total Score', 'CRSr::Oromotor Total Score', 'CRSr::communication Total Score', 'CRSr::Arousal Total Score']\n",
    "cf_crsr_all = reorder_cols_df(cf_crsr_all, reorder_cols)\n",
    "cf_crsr_all"
   ]
  },
  {
   "cell_type": "code",
   "execution_count": null,
   "metadata": {},
   "outputs": [],
   "source": [
    "# Find all subjects where all CRS-R are missing (ie, not even a single CRS-R recorded) in the db except the name\n",
    "\n",
    "## OLD WAY\n",
    "#cf_crsr_all_missing = cf_crsr_all.loc[cf_crsr_all.drop(columns=['CRSr::Subscores']).isnull().all(axis=1)]  # need to drop patientid which is an automatic field automatically added by FMP\n",
    "# Get the indices (=patients names) that are missing crsr and those that have at least one available\n",
    "#idx_missing = cf_crsr_all_missing.index.get_level_values(0)\n",
    "#idx_present = cf_crsr_all.loc[~cf_crsr_all.drop(columns=['CRSr::Subscores']).isnull().all(axis=1)].index.get_level_values(0)\n",
    "# Find patients without any CRSr (exclusion between two lists of indices)\n",
    "#cf_crsr_all_really_missing = cf_crsr_all_missing[~idx_missing.isin(idx_present)]\n",
    "\n",
    "## NEW WAY\n",
    "missing_all_crsr = list(set(cf_crsr.reset_index()['Name'].unique()) - set(cf_crsr_all.reset_index()['Name'].unique()))\n",
    "cf_crsr_all_really_missing = pd.DataFrame(missing_all_crsr, columns=['Name'])\n",
    "# Save the results\n",
    "save_df_as_csv(df_to_unicode(cf_crsr_all_really_missing), os.path.join(output_dir, 'fmp_db_subjects_missing_all_crsr.csv'), fields_order=['Name'], csv_order_by='Name')  # use reset_index() to put the Name back as a column instead of index\n",
    "print('Saved in fmp_db_subjects_missing_all_crsr.csv')\n",
    "cf_crsr_all_really_missing"
   ]
  },
  {
   "cell_type": "code",
   "execution_count": null,
   "metadata": {},
   "outputs": [],
   "source": [
    "# Debug\n",
    "#cf_crsr.reset_index()[cf_crsr.reset_index()['Name'] == 'Some Subject']"
   ]
  },
  {
   "cell_type": "code",
   "execution_count": null,
   "metadata": {},
   "outputs": [],
   "source": [
    "# Sort both dataframes\n",
    "cf_crsr_all.sort_index(inplace=True)\n",
    "cf_agg.sort_index(inplace=True)"
   ]
  },
  {
   "cell_type": "code",
   "execution_count": null,
   "metadata": {},
   "outputs": [],
   "source": [
    "# Save crsr database\n",
    "save_df_as_csv(df_to_unicode(cf_crsr_all), os.path.join(output_dir, 'fmp_db_subjects_crsr.csv'), fields_order=['CRSr::Diagnosis', 'CRSr::Computed Outcome', 'CRSr::Subscores','CRSr::Auditory Total Score', 'CRSr::Visual Total Score', 'CRSr::Motor Total Score', 'CRSr::Oromotor Total Score', 'CRSr::communication Total Score', 'CRSr::Arousal Total Score'], keep_index=True)"
   ]
  },
  {
   "cell_type": "code",
   "execution_count": null,
   "metadata": {},
   "outputs": [],
   "source": [
    "# Compute best diagnosis for each patient\n",
    "\n",
    "# Compute best diagnosis by using Pandas categories\n",
    "cf_crsr_bestdiag1 = compute_best_diag(cf_crsr_all.loc[:,'CRSr::Computed Outcome'], ['coma', 'vs/uws', 'mcs', 'mcs-', 'mcs+', 'emcs', 'lis'])\n",
    "cf_crsr_bestdiag2 = compute_best_diag(cf_crsr_all.loc[:,'CRSr::Diagnosis'], ['coma', 'vs/uws', 'vs',  'mcs', 'mcs-', 'mcs+', 'emcs', 'lis', 'lis incomplete'])\n",
    "# Place them back into the original dataframe as new columns\n",
    "cf_agg.loc[:,'CRSr::Best Computed Outcome'] = cf_crsr_bestdiag1\n",
    "cf_agg.loc[:,'CRSr::Best Diagnosis'] = cf_crsr_bestdiag2\n",
    "# Bonus: add the best total score\n",
    "cf_agg.loc[:,'CRSr::Best total'] = cf_crsr_all.loc[:,'CRSr::total'].max(level=0)"
   ]
  },
  {
   "cell_type": "code",
   "execution_count": null,
   "metadata": {},
   "outputs": [],
   "source": [
    "# Reorder columns for better visibility and show the result\n",
    "cf_agg = reorder_cols_df(cf_agg, ['CRSr::Best Computed Outcome', 'CRSr::Best Diagnosis', 'Final diagnosis', 'CRSr::Best total', 'Date of Accident', 'Date of Birth', 'Date of Death', 'Etiology', 'Etiology specified.'])\n",
    "cf_agg"
   ]
  },
  {
   "cell_type": "code",
   "execution_count": null,
   "metadata": {},
   "outputs": [],
   "source": [
    "# Add back the CRS-R infos as aggregated lists\n",
    "cf_crsr_all_agg = cf_crsr_all.reset_index().groupby('Name').agg(concat_vals_unique)\n",
    "#cf.groupby(cf['Name']).agg(list)\n",
    "cf_agg_all = pd.concat([cf_agg, cf_crsr_all_agg], axis=1)\n",
    "cf_agg_all.index.name = 'Name'  # add the name of the index\n",
    "# Add an aggregate of CRSr dates with related subscore, so we don't lose any information (or at least we keep the essential)\n",
    "cf_agg_all['CRSr::Date and subscores'] = cf_crsr_all.reset_index(level=1)[['CRSr::Date of CRSr', 'CRSr::Subscores']].apply(lambda x: concat_strings(x, sep=':'), axis=1).reset_index().groupby('Name').agg(concat_vals_unique)\n",
    "#cf_agg.append(cf_crsr_all_agg)\n",
    "save_df_as_csv(df_to_unicode(cf_agg_all), os.path.join(output_dir, 'fmp_db_subjects_aggregated.csv'), fields_order=False, keep_index=True)\n",
    "print('Saved in fmp_db_subjects_aggregated.csv')\n",
    "cf_agg_all"
   ]
  },
  {
   "cell_type": "markdown",
   "metadata": {},
   "source": [
    "-----------------------------\n",
    "## Additional stats and inference (optional)"
   ]
  },
  {
   "cell_type": "code",
   "execution_count": null,
   "metadata": {},
   "outputs": [],
   "source": [
    "# Patients missing any manual diagnosis\n",
    "cf_missing_diag1 = cf_agg[cf_agg['CRSr::Best Diagnosis'].isnull()]['CRSr::Best Diagnosis']\n",
    "save_df_as_csv(df_to_unicode(pd.DataFrame(cf_missing_diag1)), os.path.join(output_dir, 'fmp_db_subjects_missing_diagnosis.csv'), fields_order=False, keep_index=True)\n",
    "cf_missing_diag1"
   ]
  },
  {
   "cell_type": "code",
   "execution_count": null,
   "metadata": {},
   "outputs": [],
   "source": [
    "# Patients missing any automatic diagnosis\n",
    "cf_missing_diag2 = cf_agg[cf_agg['CRSr::Best Computed Outcome'].isnull()]['CRSr::Best Computed Outcome']\n",
    "save_df_as_csv(df_to_unicode(pd.DataFrame(cf_missing_diag2)), os.path.join(output_dir, 'fmp_db_subjects_missing_computed_outcome.csv'), fields_order=False, keep_index=True)\n",
    "cf_missing_diag2"
   ]
  },
  {
   "cell_type": "code",
   "execution_count": null,
   "metadata": {},
   "outputs": [],
   "source": [
    "# Patients missing final diagnosis\n",
    "cf_missing_diag3 = cf_agg[cf_agg['Final diagnosis'].isnull()]['Final diagnosis']\n",
    "save_df_as_csv(df_to_unicode(pd.DataFrame(cf_missing_diag3)), os.path.join(output_dir, 'fmp_db_subjects_missing_finaldiagnosis.csv'), fields_order=False, keep_index=True)\n",
    "cf_missing_diag3"
   ]
  },
  {
   "cell_type": "code",
   "execution_count": null,
   "metadata": {},
   "outputs": [],
   "source": [
    "# Find patients missing ALL kinds of diagnosis\n",
    "cf_missing_all_diags = cf_missing_diag1\n",
    "for idxs in [cf_missing_diag2.index, cf_missing_diag3.index]:\n",
    "    cf_missing_all_diags = cf_missing_all_diags[cf_missing_all_diags.index.isin(idxs)]\n",
    "save_df_as_csv(df_to_unicode(pd.DataFrame(cf_missing_all_diags)), os.path.join(output_dir, 'fmp_db_subjects_missing_alldiags.csv'), fields_order=False, keep_index=True)\n",
    "cf_missing_all_diags"
   ]
  },
  {
   "cell_type": "code",
   "execution_count": null,
   "metadata": {},
   "outputs": [],
   "source": [
    "# Find all patients where the diagnosis is different between the automatic and the manual\n",
    "def compare_diff_2cols(x):\n",
    "    if not pd.isnull(x.iloc[0]) and not pd.isnull(x.iloc[1]) and x.iloc[0].lower().strip() != x.iloc[1].lower().strip():\n",
    "        if 'vs' in x.iloc[0].lower().strip() and 'vs' in x.iloc[1].lower().strip():  # special case of equivalence (TODO: do it more elegantly by replacing directly in the dataframe)\n",
    "            return False\n",
    "        else:\n",
    "            return True\n",
    "    else:\n",
    "        return False\n",
    "\n",
    "def compare_diff_3cols(x):\n",
    "    # Note: for this function to work, one must use concat_vals_unique to ensure that only one value remains for each diagnosis column\n",
    "    # Compare 1st and 2nd columns\n",
    "    if not pd.isnull(x.iloc[0]) and not pd.isnull(x.iloc[1]) and x.iloc[0].lower().strip() != x.iloc[1].lower().strip():\n",
    "        if 'vs' in x.iloc[0].lower().strip() and 'vs' in x.iloc[1].lower().strip():  # special case of equivalence (TODO: do it more elegantly by replacing directly in the dataframe)\n",
    "            return False\n",
    "        else:\n",
    "            return True\n",
    "    else:\n",
    "        # Compare 2nd and 3rd columns\n",
    "        try:\n",
    "            if not pd.isnull(x.iloc[1]) and not pd.isnull(x.iloc[2]) and x.iloc[1].lower().strip() != x.iloc[2].lower().strip():\n",
    "                return True\n",
    "            else:\n",
    "                return False\n",
    "        except Exception as exc:\n",
    "            print(x.iloc[2])\n",
    "            print(x.iloc[1])\n",
    "            print(x)\n",
    "            raise\n",
    "\n",
    "cf_different_diags = cf_agg[cf_agg[['CRSr::Best Computed Outcome', 'CRSr::Best Diagnosis']].apply(compare_diff_2cols, axis=1)]\n",
    "cf_different_diags_3cols = cf_agg[cf_agg[['CRSr::Best Computed Outcome', 'CRSr::Best Diagnosis', 'Final diagnosis']].apply(compare_diff_3cols, axis=1)]\n",
    "save_df_as_csv(df_to_unicode(cf_different_diags), os.path.join(output_dir, 'fmp_db_subjects_different_diags.csv'), fields_order=df_to_unicode(cf_agg).columns, keep_index=True)\n",
    "save_df_as_csv(df_to_unicode(cf_different_diags_3cols), os.path.join(output_dir, 'fmp_db_subjects_different_diags_3cols.csv'), fields_order=df_to_unicode(cf_agg).columns, keep_index=True)\n",
    "cf_different_diags"
   ]
  },
  {
   "cell_type": "code",
   "execution_count": null,
   "metadata": {},
   "outputs": [],
   "source": [
    "# Find all patients who have a CRSr but missing the date\n",
    "cf_missing_crsr_date = cf_crsr_all.reset_index(level=1)[cf_crsr_all.reset_index(level=1)['CRSr::Date of CRSr'].isnull()]\n",
    "save_df_as_csv(df_to_unicode(cf_missing_crsr_date), os.path.join(output_dir, 'fmp_db_subjects_missing_crsr_date.csv'), fields_order=False, keep_index=True)\n",
    "cf_missing_crsr_date"
   ]
  },
  {
   "cell_type": "code",
   "execution_count": null,
   "metadata": {},
   "outputs": [],
   "source": [
    "# Find all patients with missing both etiology and etiology specified fields (no etiology at all!)\n",
    "cf_missing_etio = cf_agg[cf_agg[['Etiology', 'Etiology specified.']].isnull().all(axis=1)][['Etiology', 'Etiology specified.']]\n",
    "save_df_as_csv(df_to_unicode(cf_missing_etio), os.path.join(output_dir, 'fmp_db_subjects_missing_etiology.csv'), fields_order=False, keep_index=True)\n",
    "cf_missing_etio"
   ]
  },
  {
   "cell_type": "code",
   "execution_count": null,
   "metadata": {},
   "outputs": [],
   "source": [
    "# Find patients missing the sedation info about MRI EPI\n",
    "cf_missing_episedation = cf_agg[cf_agg['MRI::Sedation EPI'].isnull()][find_columns_matching(cf_agg, 'sedat')]\n",
    "save_df_as_csv(df_to_unicode(cf_missing_episedation), os.path.join(output_dir, 'fmp_db_subjects_missing_episedation.csv'), fields_order=False, keep_index=True)\n",
    "cf_missing_episedation"
   ]
  },
  {
   "cell_type": "code",
   "execution_count": null,
   "metadata": {},
   "outputs": [],
   "source": [
    "# Find patients missing any sedation info (either MRI EPI or PET)\n",
    "cf_missing_anysedation = cf_agg[cf_agg[['MRI::Sedation EPI', 'PET::Sedation']].isnull().any(axis=1)][find_columns_matching(cf_agg, 'sedat')]\n",
    "save_df_as_csv(df_to_unicode(cf_missing_anysedation), os.path.join(output_dir, 'fmp_db_subjects_missing_anysedation.csv'), fields_order=False, keep_index=True)\n",
    "cf_missing_anysedation"
   ]
  }
 ],
 "metadata": {
  "kernelspec": {
   "display_name": "Python 2",
   "language": "python",
   "name": "python2"
  },
  "language_info": {
   "codemirror_mode": {
    "name": "ipython",
    "version": 2
   },
   "file_extension": ".py",
   "mimetype": "text/x-python",
   "name": "python",
   "nbconvert_exporter": "python",
   "pygments_lexer": "ipython2",
   "version": "2.7.15"
  }
 },
 "nbformat": 4,
 "nbformat_minor": 2
}
