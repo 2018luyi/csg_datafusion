{
 "cells": [
  {
   "cell_type": "markdown",
   "metadata": {},
   "source": [
    "# DB acute analysis\n",
    "By Stephen Larroque @ Coma Science Group, GIGA Research, University of Liege\n",
    "Creation date: 2018-05-27\n",
    "License: MIT\n",
    "v1.0.1\n",
    "\n",
    "DESCRIPTION:\n",
    "Calculate whether patients were acute at the time of MRI acquisition (28 days included by default).\n",
    "This expects as input a csv file with both the accident date and dicom date (see other scripts).\n",
    "\n",
    "INSTALL NOTE:\n",
    "You need to pip install pandas before launching this script.\n",
    "Tested on Python 2.7.13\n",
    "\n",
    "USAGE:\n",
    "\n",
    "TODO:\n"
   ]
  },
  {
   "cell_type": "code",
   "execution_count": null,
   "metadata": {},
   "outputs": [],
   "source": [
    "# Forcefully autoreload all python modules\n",
    "%load_ext autoreload\n",
    "%autoreload 2"
   ]
  },
  {
   "cell_type": "code",
   "execution_count": null,
   "metadata": {},
   "outputs": [],
   "source": [
    "# AUX FUNCTIONS\n",
    "\n",
    "import os, sys\n",
    "\n",
    "cur_path = os.path.realpath('.')\n",
    "sys.path.append(os.path.join(cur_path, 'csg_fileutil_libs'))\n",
    "\n",
    "import re\n",
    "\n",
    "from csg_fileutil_libs.aux_funcs import save_df_as_csv, _tqdm, reorder_cols_df, find_columns_matching, convert_to_datetype\n"
   ]
  },
  {
   "cell_type": "code",
   "execution_count": null,
   "metadata": {},
   "outputs": [],
   "source": [
    "# Nice plots!\n",
    "import matplotlib.pyplot as plt\n",
    "plt.style.use('ggplot')"
   ]
  },
  {
   "cell_type": "code",
   "execution_count": null,
   "metadata": {},
   "outputs": [],
   "source": [
    "# PARAMETERS\n",
    "\n",
    "# FileMakerPro (FMP) database, cleaned with the provided script\n",
    "fmp_agg_csv = 'fmp_db_subjects_aggregated.csv_etiosedatfixed_dicomsdatediag.csv'\n"
   ]
  },
  {
   "cell_type": "code",
   "execution_count": null,
   "metadata": {},
   "outputs": [],
   "source": [
    "# Import the csv dbs as dataframes\n",
    "import pandas as pd\n",
    "import ast\n",
    "\n",
    "cf_agg = pd.read_csv(fmp_agg_csv, sep=';', low_memory=False).dropna(axis=0, how='all')  # drop empty lines\n",
    "cf_agg.set_index('Name', inplace=True)\n",
    "cf_agg"
   ]
  },
  {
   "cell_type": "code",
   "execution_count": null,
   "metadata": {},
   "outputs": [],
   "source": [
    "def df_extract_first_date(x):\n",
    "    if not pd.isnull(x):\n",
    "        try:\n",
    "            x2 = ast.literal_eval(x)\n",
    "        except SyntaxError as exc:\n",
    "            x2 = ast.literal_eval(\"['\"+x+\"']\")\n",
    "        return x2[0].split(':')[0]\n",
    "    else:\n",
    "        return x\n",
    "first_crsr_date = cf_agg['CRSr::Date and subscores'].apply(df_extract_first_date)\n",
    "cf_agg['CRSr first date'] = first_crsr_date\n",
    "cf_agg"
   ]
  },
  {
   "cell_type": "code",
   "execution_count": null,
   "metadata": {
    "scrolled": true
   },
   "outputs": [],
   "source": [
    "# Convert to datetime the columns we need, to ease date calculations\n",
    "cf_agg2 = convert_to_datetype(cf_agg, 'Date of Accident', '%d/%m/%Y', errors='coerce')\n",
    "cf_agg2 = convert_to_datetype(cf_agg2, 'CRSr first date', '%d/%m/%Y', errors='coerce')\n",
    "cf_agg2 = convert_to_datetype(cf_agg2, 'Dicom Date', '%Y-%m-%d', errors='coerce')\n",
    "cf_agg2"
   ]
  },
  {
   "cell_type": "code",
   "execution_count": null,
   "metadata": {
    "scrolled": true
   },
   "outputs": [],
   "source": [
    "# Acute from a random CRS-R date\n",
    "cf_agg2['Days random CRSr since accident'] = cf_agg2['CRSr first date'] - cf_agg2['Date of Accident']\n",
    "cf_agg2['Days random CRSr since accident']"
   ]
  },
  {
   "cell_type": "code",
   "execution_count": null,
   "metadata": {},
   "outputs": [],
   "source": [
    "# Acute from dicom date\n",
    "cf_agg2['Days scan since accident'] = cf_agg2['Dicom Date'] - cf_agg2['Date of Accident']\n",
    "cf_agg2.loc[:, ['Name', 'CRSr::Best Computed Outcome', 'CRSr::Best Diagnosis', 'Final diagnosis', 'Days scan since accident']]\n",
    "cf_agg2['Acute'] = (cf_agg2['Days scan since accident'] <= pd.Timedelta('28 days'))\n",
    "# Nullify if no dicom date available (then cannot know if acute or not)\n",
    "cf_agg2.loc[cf_agg2['Dicom Date'].isnull(), ['Days scan since accident', 'Days random CRSr since accident']] = None\n",
    "cf_agg2.loc[cf_agg2['Dicom Date'].isnull(), 'Acute'] = ''\n",
    "# Save as csv\n",
    "save_df_as_csv(cf_agg2, fmp_agg_csv+'_acute.csv', fields_order=cf_agg2.columns, keep_index=False)\n",
    "cf_agg2"
   ]
  },
  {
   "cell_type": "code",
   "execution_count": null,
   "metadata": {},
   "outputs": [],
   "source": []
  }
 ],
 "metadata": {
  "kernelspec": {
   "display_name": "Python 2",
   "language": "python",
   "name": "python2"
  },
  "language_info": {
   "codemirror_mode": {
    "name": "ipython",
    "version": 2
   },
   "file_extension": ".py",
   "mimetype": "text/x-python",
   "name": "python",
   "nbconvert_exporter": "python",
   "pygments_lexer": "ipython2",
   "version": "2.7.15"
  }
 },
 "nbformat": 4,
 "nbformat_minor": 2
}
