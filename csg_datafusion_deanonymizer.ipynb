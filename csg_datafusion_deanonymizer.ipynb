{
 "cells": [
  {
   "cell_type": "code",
   "execution_count": null,
   "metadata": {},
   "outputs": [],
   "source": [
    "# Deanonymizer, given CSG Dicoms Anonymizer idtoname.csv file\n",
    "# v0.1"
   ]
  },
  {
   "cell_type": "code",
   "execution_count": null,
   "metadata": {},
   "outputs": [],
   "source": [
    "# Forcefully autoreload all python modules\n",
    "%load_ext autoreload\n",
    "%autoreload 2"
   ]
  },
  {
   "cell_type": "code",
   "execution_count": null,
   "metadata": {},
   "outputs": [],
   "source": [
    "# AUX FUNCTIONS\n",
    "\n",
    "import os, sys\n",
    "\n",
    "cur_path = os.path.realpath('.')\n",
    "sys.path.append(os.path.join(cur_path, 'csg_fileutil_libs'))  # for unidecode and cleanup_name, because it does not support relative paths (yet?)\n",
    "\n",
    "import re\n",
    "\n",
    "from csg_fileutil_libs.aux_funcs import save_df_as_csv, _tqdm, merge_two_df, cleanup_name_df\n"
   ]
  },
  {
   "cell_type": "code",
   "execution_count": null,
   "metadata": {},
   "outputs": [],
   "source": [
    "# PARAMETERS\n",
    "\n",
    "# Reference database, from which records will be extracted\n",
    "ref_db = 'idtoname/demographics_shortened.csv'\n",
    "id_db = 'idtoname/idtoname.csv'\n"
   ]
  },
  {
   "cell_type": "code",
   "execution_count": null,
   "metadata": {},
   "outputs": [],
   "source": [
    "import pandas as pd\n",
    "\n",
    "cref = pd.read_csv(ref_db, sep=';')\n",
    "cref"
   ]
  },
  {
   "cell_type": "code",
   "execution_count": null,
   "metadata": {},
   "outputs": [],
   "source": [
    "cid = pd.read_csv(id_db, sep=';')\n",
    "cid"
   ]
  },
  {
   "cell_type": "code",
   "execution_count": null,
   "metadata": {},
   "outputs": [],
   "source": [
    "# Merge csv and fmp final diagnoses if name matches\n",
    "cmerge = merge_two_df(cref, cid, col='name', mode=0, skip_sanity=True)\n",
    "cmerge"
   ]
  },
  {
   "cell_type": "code",
   "execution_count": null,
   "metadata": {},
   "outputs": [],
   "source": [
    "cmerge.loc[cmerge['name'].isnull(), 'name'] = cmerge['name2']\n",
    "cmerge"
   ]
  },
  {
   "cell_type": "code",
   "execution_count": null,
   "metadata": {},
   "outputs": [],
   "source": [
    "# Remap names\n",
    "def df_remap_names(df, dfremap, col='name', col2='name2', keep_nulls=False):\n",
    "    '''Remap names in a dataframe using a remapping list (ie, a dataframe with two names columns)'''\n",
    "    def replace_nonnull_df(x, repmap):\n",
    "        replacement = repmap[x]\n",
    "        return replacement if replacement is not None else x\n",
    "    repmap = dfremap.set_index(col2)[col].to_dict()\n",
    "    df2 = df.copy().reset_index()\n",
    "    if keep_nulls:\n",
    "        # Much faster but if there are nulls they will be replaced\n",
    "        df2[col] = df2[col].map(repmap)\n",
    "    else:\n",
    "        # Slower but remap only if the remap is not null\n",
    "        df2[col] = df2[col].apply(lambda x: replace_nonnull_df(x, repmap))\n",
    "    return df2\n",
    "\n",
    "cid2 = df_remap_names(cid, cmerge, 'name', 'name2')\n",
    "del cid2['index']\n",
    "cid2"
   ]
  },
  {
   "cell_type": "code",
   "execution_count": null,
   "metadata": {},
   "outputs": [],
   "source": [
    "cref.reset_index(inplace=True)\n",
    "cref.set_index('name', inplace=True)\n",
    "cid2.reset_index(inplace=True)\n",
    "del cid2['index']\n",
    "cid2.set_index('name', inplace=True)\n",
    "cid2"
   ]
  },
  {
   "cell_type": "code",
   "execution_count": null,
   "metadata": {},
   "outputs": [],
   "source": [
    "cref['anonid'] = cid2\n",
    "cref"
   ]
  },
  {
   "cell_type": "code",
   "execution_count": null,
   "metadata": {},
   "outputs": [],
   "source": [
    "save_df_as_csv(cref.reset_index(), 'demo_unanonymized.csv', ['name', 'anonid'], 'name')"
   ]
  },
  {
   "cell_type": "code",
   "execution_count": null,
   "metadata": {},
   "outputs": [],
   "source": [
    "save_df_as_csv(cid2.reset_index(), 'demo_unanomyzed_names_list.csv', ['name'], 'name')"
   ]
  },
  {
   "cell_type": "code",
   "execution_count": null,
   "metadata": {},
   "outputs": [],
   "source": []
  }
 ],
 "metadata": {
  "kernelspec": {
   "display_name": "Python 2",
   "language": "python",
   "name": "python2"
  },
  "language_info": {
   "codemirror_mode": {
    "name": "ipython",
    "version": 2
   },
   "file_extension": ".py",
   "mimetype": "text/x-python",
   "name": "python",
   "nbconvert_exporter": "python",
   "pygments_lexer": "ipython2",
   "version": "2.7.15"
  }
 },
 "nbformat": 4,
 "nbformat_minor": 2
}
