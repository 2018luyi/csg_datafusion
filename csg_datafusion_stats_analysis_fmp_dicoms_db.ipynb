{
 "cells": [
  {
   "cell_type": "markdown",
   "metadata": {},
   "source": [
    "# FMP+DICOMS stats analysis\n",
    "By Stephen Larroque @ Coma Science Group, GIGA Research, University of Liege\n",
    "Creation date: 2018-02-17\n",
    "License: MIT\n",
    "v1.3.1\n",
    "\n",
    "DESCRIPTION:\n",
    "Some statistical analysis of the combination of FMP and DICOMS databases. This also saves a merged csv file with both data.\n",
    "\n",
    "INSTALL NOTE:\n",
    "You need to pip install pandas before launching this script.\n",
    "Tested on Python 2.7.13\n",
    "\n",
    "USAGE:\n",
    "Input the cleaned FMP database (cleaned using fmp_db_cleaner.ipynb) and the DICOMs csv database.\n",
    "\n",
    "TODO:\n",
    "* Nothing here!"
   ]
  },
  {
   "cell_type": "code",
   "execution_count": null,
   "metadata": {},
   "outputs": [],
   "source": [
    "# Forcefully autoreload all python modules\n",
    "%load_ext autoreload\n",
    "%autoreload 2"
   ]
  },
  {
   "cell_type": "code",
   "execution_count": null,
   "metadata": {},
   "outputs": [],
   "source": [
    "# AUX FUNCTIONS\n",
    "\n",
    "import os, sys\n",
    "\n",
    "cur_path = os.path.realpath('.')\n",
    "sys.path.append(os.path.join(cur_path, 'csg_fileutil_libs'))  # for unidecode and cleanup_name, because it does not support relative paths (yet?)\n",
    "\n",
    "import re\n",
    "\n",
    "from csg_fileutil_libs.aux_funcs import save_df_as_csv, _tqdm, merge_two_df, compute_best_diag, reorder_cols_df, find_columns_matching, cleanup_name, replace_buggy_accents, convert_to_datetype, df_drop_duplicated_index, df_to_unicode, df_to_unicode_fast, cleanup_name_df\n"
   ]
  },
  {
   "cell_type": "code",
   "execution_count": null,
   "metadata": {},
   "outputs": [],
   "source": [
    "# Nice plots!\n",
    "import matplotlib.pyplot as plt\n",
    "plt.style.use('ggplot')"
   ]
  },
  {
   "cell_type": "code",
   "execution_count": null,
   "metadata": {},
   "outputs": [],
   "source": [
    "# PARAMETERS\n",
    "\n",
    "# FileMakerPro (FMP) database, cleaned with the provided script\n",
    "fmp_agg_csv = r'databases_output\\fmp_db_subjects_aggregated.csv'\n",
    "fmp_crsr_csv = r'databases_output\\fmp_db_subjects_crsr.csv'\n",
    "\n",
    "# DICOMS database extract, with provided script\n",
    "dicoms_csv = r'databases_output\\dicoms_db_infos_new.csv'\n",
    "\n",
    "# Hide null values in plots?\n",
    "plot_hide_nan = True"
   ]
  },
  {
   "cell_type": "code",
   "execution_count": null,
   "metadata": {},
   "outputs": [],
   "source": [
    "# Additional AUX functions\n",
    "#def convert_to_datetype(df, col, dtformat, **kwargs):\n",
    "#    \"\"\"Convert a column of a dataframe to date type with the given format\"\"\"\n",
    "#    if not df.index.name is None:\n",
    "#        df = df.reset_index()\n",
    "#    df[col] = pd.to_datetime(df[col], format=dtformat, **kwargs)\n",
    "#    return df\n",
    "\n",
    "#def df_drop_duplicated_index(df):\n",
    "#    \"\"\"Drop all duplicated indices in a dataframe or series\"\"\"\n",
    "#    return df[~df.index.duplicated(keep='first')]"
   ]
  },
  {
   "cell_type": "code",
   "execution_count": null,
   "metadata": {},
   "outputs": [],
   "source": [
    "# Import the csv dbs as dataframes\n",
    "import pandas as pd\n",
    "import numpy as np\n",
    "\n",
    "cf_agg = pd.read_csv(fmp_agg_csv, sep=';', low_memory=False).dropna(axis=0, how='all').fillna('')  # drop empty lines\n",
    "cf_crsr = pd.read_csv(fmp_crsr_csv, sep=';', low_memory=False).dropna(axis=0, how='all')  # drop empty lines\n",
    "cdicom = pd.read_csv(dicoms_csv, sep=';', low_memory=False).dropna(axis=0, how='all').fillna('')  # drop empty lines\n",
    "cdicom.drop_duplicates(inplace=True) # drop duplicates\n",
    "cdicom.rename(columns={'name': 'Name'}, inplace=True)  # rename to have the same column"
   ]
  },
  {
   "cell_type": "code",
   "execution_count": null,
   "metadata": {},
   "outputs": [],
   "source": [
    "# Compute the dicoms availability compared to FMP\n",
    "print('The dicoms db includes %i different MRI sessions and %i unique subjects.' % (len(cdicom), len(cdicom['Name'].unique())))\n",
    "print('The FMP db includes %i different CRS-Rs and %i unique subjects.' % (len(cf_crsr), len(cf_agg)))\n",
    "available = len(cdicom['Name'].unique())\n",
    "unavailable = len(cf_agg) - available\n",
    "fig = plt.figure()\n",
    "pd.Series([available, unavailable], index=['Available (%i)' % available, 'Unavailable (%i)' % unavailable]).plot(kind='pie', title='Dicoms Availability (total: %i patients)' % (available+unavailable), autopct='%.1f%%', figsize=(6, 6))\n",
    "plt.axis('off')  # hide axis \"None\" label\n",
    "fig.savefig('fig_dicoms-availability.png', bbox_inches='tight', dpi=600)"
   ]
  },
  {
   "cell_type": "code",
   "execution_count": null,
   "metadata": {},
   "outputs": [],
   "source": [
    "# Compute the mapping of names to rename the names in dicoms to correspond to those of FMP (to ease comparison)\n",
    "(mapping, cdicom_merged) = merge_two_df(cdicom, cf_agg, col='name', mode=1, skip_sanity=True, keep_nulls=True, returnmerged=True)\n",
    "mapping"
   ]
  },
  {
   "cell_type": "code",
   "execution_count": null,
   "metadata": {},
   "outputs": [],
   "source": [
    "# Rename dicoms names and drop empty names (could not find a mapping in FMP or missing, so we don't have any info anyway - we draw below a list of these subjects anyway)\n",
    "cdicom_ren = cdicom.copy()\n",
    "cdicom_ren['Name'] = cdicom_ren['Name'].map(mapping.set_index('name')['name2'].to_dict())\n",
    "cdicom_ren.dropna(subset=['Name'], inplace=True)  # drop empty names (no mapping in FMP)\n",
    "cdicom_ren"
   ]
  },
  {
   "cell_type": "code",
   "execution_count": null,
   "metadata": {},
   "outputs": [],
   "source": [
    "# Find all missing dicoms of subjects we can however find in the FMP db (so we need to get the dicoms!)\n",
    "missing_dicoms = list(set(cf_agg.set_index('Name').index.difference(cdicom_ren.set_index('Name').index).tolist()))\n",
    "missing_dicoms"
   ]
  },
  {
   "cell_type": "code",
   "execution_count": null,
   "metadata": {},
   "outputs": [],
   "source": [
    "# Save as csv\n",
    "cf_missing_dicoms = pd.DataFrame(missing_dicoms, columns=['Name'])\n",
    "save_df_as_csv(df_to_unicode(cf_missing_dicoms), 'missing_dicoms.csv', csv_order_by='Name')\n",
    "print('Total missing dicoms: %i, saved in missing_dicoms.csv' % len(cf_missing_dicoms))"
   ]
  },
  {
   "cell_type": "code",
   "execution_count": null,
   "metadata": {},
   "outputs": [],
   "source": [
    "# Subjects missing in FMP (typo? bug?)\n",
    "print('List of subjects present in dicoms but could not find the name in FMP db (typos or longer name in FMP?):')\n",
    "cf_missing_fmp = mapping[mapping['name2'].isnull()]['name']\n",
    "save_df_as_csv(df_to_unicode(cf_missing_fmp.to_frame()), 'missing_fmp_but_have_dicoms.csv')\n",
    "print('Total missing demographics but has dicoms: %i, saved in missing_fmp_but_have_dicoms.csv' % len(cf_missing_fmp))\n",
    "cf_missing_fmp"
   ]
  },
  {
   "cell_type": "code",
   "execution_count": null,
   "metadata": {},
   "outputs": [],
   "source": [
    "# Add back the subjects that have dicoms but are not in FMP database\n",
    "# Note that cdicom_ren_all might look like cdicom (the original input) but it is different in the sense that the Name column is now synchronized with the Name column from FMP database for subjects we could find there, so the comparison will then be eased\n",
    "cf_missing_fmp_full = cdicom.loc[cleanup_name_df(cdicom, 'Name')['Name'].isin(cf_missing_fmp),:]\n",
    "cdicom_ren_all = pd.concat([cdicom_ren, cf_missing_fmp_full])\n",
    "cdicom_ren_all"
   ]
  },
  {
   "cell_type": "code",
   "execution_count": null,
   "metadata": {},
   "outputs": [],
   "source": [
    "# Plot the diagnosis repartition\n",
    "fig = plt.figure()\n",
    "tmp = cf_agg['CRSr::Best Computed Outcome'].value_counts(dropna=plot_hide_nan)\n",
    "tmp.plot(kind='pie', title='CRS-R diagnosis repartition (%i patients)' % tmp.sum(), autopct='%.0f%%', figsize=(6, 6))\n",
    "plt.axis('off')\n",
    "fig.savefig('fig_crsr-diag-repartition.png', bbox_inches='tight', dpi=600)\n",
    "tmp"
   ]
  },
  {
   "cell_type": "code",
   "execution_count": null,
   "metadata": {},
   "outputs": [],
   "source": [
    "# Plot the EPI sedation repartition\n",
    "cf_agg.loc[cf_agg['MRI::Sedation EPI'] == \"['both', 'yes']\", 'MRI::Sedation EPI'] = 'both'\n",
    "cf_agg['MRI::Sedation EPI'] = cf_agg['MRI::Sedation EPI'].str.strip()\n",
    "fig = plt.figure()\n",
    "tmp = cf_agg['MRI::Sedation EPI'].str.strip().value_counts(dropna=plot_hide_nan)\n",
    "tmp.plot(fig=fig, kind='pie', title='MRI EPI sedation (%i patients)' % tmp.sum(), autopct='%.0f%%', figsize=(6, 6))\n",
    "fig.savefig('fig_mri-epi-sedation.png', bbox_inches='tight', dpi=600)\n",
    "tmp"
   ]
  },
  {
   "cell_type": "code",
   "execution_count": null,
   "metadata": {},
   "outputs": [],
   "source": [
    "# Plot the etiology repartition\n",
    "def replace_nonnull_df(x, repmap, cleanup=False):\n",
    "    if cleanup and isinstance(x, str):\n",
    "        x = cleanup_name(replace_buggy_accents(x))\n",
    "    if x in repmap:\n",
    "        replacement = repmap[x]\n",
    "        return replacement if replacement is not None else x\n",
    "    else:\n",
    "        return x\n",
    "\n",
    "cf_agg_etio = cf_agg.copy()\n",
    "# For null Etiology cells, fill in with the Etiology specified column's value\n",
    "cf_agg_etio.loc[cf_agg_etio['Etiology'].isnull(), 'Etiology'] = cf_agg_etio.loc[cf_agg_etio['Etiology'].isnull()]['Etiology specified.']\n",
    "# Rename the multitude of etiologies descriptions into a few, to better plot\n",
    "mapping_etio = {'traumatiques accident de la circulation accident du travail chute violence et autres': 'traumatic',\n",
    " 'pas traumatiques - anoxie ex arrt cardiaque noyade pendaison intoxication co ranimation': 'nt anoxic',\n",
    " 'pas traumatiques avc ex hmorragie infarctus aneurysme ischmie hypertension': 'nt stroke - ischemic',\n",
    " 'pas traumatiques - infection encphalite': 'nt infection',\n",
    " 'pas traumatiques - mtaboliques ex hypoglycmie hyperglycmie': 'metabolic',\n",
    " 'pas traumatiques - autre intoxication': 'intoxication',\n",
    " 'pas traumatiques - autre': 'other',\n",
    " 'ischemic stroke': 'nt stroke - ischemic',\n",
    " 'tbi': 'traumatic',\n",
    " 'hemorrhagic stroke': 'stroke - hemorrhage',\n",
    " 'anoxia': 'nt anoxic',\n",
    " 'mix trau anox': 'mixte trauma anoxia',\n",
    " 'avc': 'nt stroke - ischemic',\n",
    " 'arca': 'nt anoxic',\n",
    " 'anoxic': 'nt anoxic',\n",
    " 'arca sur infarctus': 'nt anoxic',\n",
    " 'arrt respiratoire': 'nt anoxic',\n",
    " 'hematoma': 'nt stroke - hemorrhage',\n",
    " 'anevrysm': 'nt stroke - hemorrhage',\n",
    " 'mix traumatic anoxic': 'mixte trauma anoxia',\n",
    " 'mixte trauma anoxie': 'mixte trauma anoxia',\n",
    " 'arca coronarien - ranim': 'nt anoxic',\n",
    " 'pas traumatiques - tumeur crbrale': 'nt tumor',\n",
    " 'pas traumatiques - autre epilepsie': 'nt epilepsia',\n",
    " 'mix other': 'other',\n",
    " 'nt anoxia': 'nt anoxic',\n",
    " 'mixed traumatic anoxic': 'mixte trauma anoxia',\n",
    " 'pas traumatiques - autre ams': 'nt ams',\n",
    " 'infection': 'nt infection',\n",
    " 'subarachnoid hemorrhage': 'stroke - hemorrhage',\n",
    " 'hmatome capsulo-thalamique': 'stroke - hemorrhage',\n",
    " 'infarctus ischmique': 'nt stroke - ischemic',\n",
    " 'nt intoxication': 'intoxication',\n",
    "}\n",
    "cf_agg_etio['Etiology'] = cf_agg_etio['Etiology'].apply(lambda x: replace_nonnull_df(x, mapping_etio, cleanup=True))\n",
    "\n",
    "# Plot!\n",
    "fig = plt.figure()\n",
    "tmp = cf_agg_etio['Etiology'].value_counts(dropna=plot_hide_nan)\n",
    "tmp.sort_values(ascending=False)[:11].plot(kind='pie', title='Etiology (%i patients)' % tmp.sum(), autopct='%.0f%%', figsize=(6, 6))\n",
    "plt.axis('off')\n",
    "fig.savefig('fig_etiology.png', bbox_inches='tight', dpi=600)\n",
    "tmp"
   ]
  },
  {
   "cell_type": "code",
   "execution_count": null,
   "metadata": {},
   "outputs": [],
   "source": [
    "# Save the fixed cf_agg\n",
    "cf_agg_etio_norm = df_to_unicode_fast(cf_agg_etio.reset_index())\n",
    "save_df_as_csv(cf_agg_etio_norm, fmp_agg_csv+'_etio-sedation-fixed.csv', fields_order=cf_agg_etio_norm.columns, keep_index=False)\n",
    "cf_agg_etio"
   ]
  },
  {
   "cell_type": "markdown",
   "metadata": {},
   "source": [
    "------------------\n",
    "## Find all patients with a differing/same diagnosis on MRI scan date as the best diagnosis"
   ]
  },
  {
   "cell_type": "code",
   "execution_count": null,
   "metadata": {},
   "outputs": [],
   "source": [
    "# Rename and convert to date type for easier comparison\n",
    "cdicom_date = cdicom_ren_all.rename(columns={'AcquisitionDate': 'Date'})\n",
    "cdicom_date = convert_to_datetype(cdicom_date, 'Date', '{%Y%m%d}').set_index(['Name', 'Date'])\n",
    "cdicom_date"
   ]
  },
  {
   "cell_type": "code",
   "execution_count": null,
   "metadata": {},
   "outputs": [],
   "source": [
    "# Same for list of subjects with dicoms but missing in FMP db\n",
    "cf_missing_fmp_full_date = cf_missing_fmp_full.rename(columns={'AcquisitionDate': 'Dicom Date', 'path': 'Dicom Path Sedation'})\n",
    "cf_missing_fmp_full_date = convert_to_datetype(cf_missing_fmp_full_date, 'Dicom Date', '{%Y%m%d}').set_index(['Name', 'Dicom Date'])\n",
    "cf_missing_fmp_full_date"
   ]
  },
  {
   "cell_type": "code",
   "execution_count": null,
   "metadata": {},
   "outputs": [],
   "source": [
    "# Same for CRS-R dataframe\n",
    "cf_crsr_date = cf_crsr.rename(columns={'CRSr::Date of CRSr': 'Date'})\n",
    "cf_crsr_date = convert_to_datetype(cf_crsr_date, 'Date', '%d/%m/%Y').set_index(['Name', 'Date'])\n",
    "cf_crsr_date"
   ]
  },
  {
   "cell_type": "code",
   "execution_count": null,
   "metadata": {
    "scrolled": true
   },
   "outputs": [],
   "source": [
    "# Find all sessions that are present in both df\n",
    "dicom_sessions_idxs = cf_crsr_date.index.intersection(cdicom_date.index)\n",
    "dicom_sessions_idxs"
   ]
  },
  {
   "cell_type": "code",
   "execution_count": null,
   "metadata": {},
   "outputs": [],
   "source": [
    "# Extract the sessions infos\n",
    "cf_crsr_date_dicoms = cf_crsr_date.loc[dicom_sessions_idxs,:]\n",
    "cf_crsr_date_dicoms"
   ]
  },
  {
   "cell_type": "code",
   "execution_count": null,
   "metadata": {},
   "outputs": [],
   "source": [
    "# Compute the diagnosis on dicom/scan day (get the best one, because there can be multiple CRS-Rs on one day, or they are buggy duplicated entries in FMP...)\n",
    "# Make a copy\n",
    "cf_agg_dicoms = cf_agg_etio.copy()\n",
    "# Add dicom MRI scan/acquisition date\n",
    "dicoms_dates_only = pd.Series(index=dicom_sessions_idxs).reset_index().set_index('Name')['Date']\n",
    "#cf_agg_dicoms.loc[:, 'Dicom Date'] = df_drop_duplicated_index(dicoms_dates_only)  # WRONG: will lose all dicom dates but the first acquisition if there are multiple for one subject\n",
    "dicoms_dates_only_dedup = df_drop_duplicated_index(dicoms_dates_only.to_frame().rename(columns={'Date': 'Dicom Date'}).reset_index().set_index(['Name', 'Dicom Date'])).reset_index().set_index('Name')  # deduplicate indexes (on both name and date)\n",
    "cf_agg_dicoms = pd.merge(cf_agg_dicoms, dicoms_dates_only_dedup, how='outer', on='Name')  # Correct: do a cartesian product so that columns but Dicom Date are duplicated if there are multiple Dicom Date\n",
    "# Set index on Name and Date\n",
    "cf_agg_dicoms = cf_agg_dicoms.reset_index().set_index(['Name', 'Dicom Date'])\n",
    "# Add best dicom diagnosis\n",
    "cf_agg_dicoms.loc[:, 'Dicom Diagnosis'] = compute_best_diag(cf_crsr_date_dicoms.loc[:, 'CRSr::Computed Outcome'], persubject=False)  # need to compute the best diagnosis because there can be multiple CRS-R on one day (or duplicates entries in the CRS-R database due to funky FileMakerPro behavior)\n",
    "# Add the missing subjects in FMP but who have DICOMs\n",
    "cf_agg_dicoms = pd.concat([cf_agg_dicoms, cf_missing_fmp_full_date], sort=False)\n",
    "# Reorder the columns for nicer display\n",
    "cf_agg_dicoms = reorder_cols_df(cf_agg_dicoms, ['Dicom Diagnosis', 'CRSr::Best Computed Outcome'])\n",
    "# Save as csv\n",
    "cf_agg_dicoms_norm = df_to_unicode_fast(cf_agg_dicoms.reset_index())  # convert strings to unicode\n",
    "save_df_as_csv(cf_agg_dicoms_norm.fillna(''), fmp_agg_csv+'_etiosedatfixed_dicomsdatediag.csv', fields_order=cf_agg_dicoms_norm.columns, keep_index=False)\n",
    "# Display results!\n",
    "cf_agg_dicoms"
   ]
  },
  {
   "cell_type": "code",
   "execution_count": null,
   "metadata": {},
   "outputs": [],
   "source": [
    "# Add the sedation assumed in DICOM path\n",
    "# Make a copy\n",
    "cf_agg_sedat = cf_agg_dicoms.copy()\n",
    "# Define the function to extract sedation info from path\n",
    "def df_path_to_sedation(x):\n",
    "    if 'non_sedated' in x.lower():\n",
    "        return 'no'\n",
    "    elif 'sedated' in x.lower():\n",
    "        return 'yes'\n",
    "    else:\n",
    "        return 'unknown'\n",
    "# Synchronize indices\n",
    "cf_agg_sedat = cf_agg_sedat.reset_index().set_index(['Name', 'Dicom Date'])\n",
    "# Drop duplicated entries (ie, multiple times the same dicom, in different paths = files duplicates)\n",
    "cdicom_path_sedat = df_drop_duplicated_index(cdicom_date.loc[:, 'path'].apply(df_path_to_sedation))\n",
    "# Merge the sedation info back into the main dataframe\n",
    "cf_agg_sedat.loc[:, 'Dicom Path Sedation'] = cdicom_path_sedat\n",
    "# Save the result as csv\n",
    "cf_agg_sedat_norm = df_to_unicode_fast(cf_agg_sedat.reset_index())  # convert strings to unicode\n",
    "save_df_as_csv(cf_agg_sedat_norm.fillna(''), fmp_agg_csv+'_etiosedatfixed_dicomsdatediag_dicompathsedat.csv', fields_order=cf_agg_sedat_norm.columns, keep_index=False)\n",
    "# Show the result\n",
    "cf_agg_sedat"
   ]
  },
  {
   "cell_type": "code",
   "execution_count": null,
   "metadata": {},
   "outputs": [],
   "source": [
    "# Find the list of patients with a different diagnosis on scan day than their final diagnosis\n",
    "cf_agg_diffdiagdicom = cf_agg_dicoms[cf_agg_dicoms['Dicom Diagnosis'] != cf_agg_dicoms['CRSr::Best Computed Outcome']].dropna(how='any', subset=['Dicom Diagnosis', 'CRSr::Best Computed Outcome'])\n",
    "cf_agg_diffdiagdicom_norm = df_to_unicode_fast(cf_agg_diffdiagdicom.reset_index())\n",
    "save_df_as_csv(cf_agg_diffdiagdicom_norm.fillna(''), fmp_agg_csv+'_diffdiagdicom.csv', fields_order=cf_agg_diffdiagdicom_norm.columns, keep_index=True)\n",
    "cf_agg_diffdiagdicom"
   ]
  },
  {
   "cell_type": "code",
   "execution_count": null,
   "metadata": {},
   "outputs": [],
   "source": [
    "# Find the opposite list (patients with the same diagnosis on scan day and final diagnosis)\n",
    "cf_agg_samediagdicom = cf_agg_dicoms[cf_agg_dicoms['Dicom Diagnosis'] == cf_agg_dicoms['CRSr::Best Computed Outcome']].dropna(how='any', subset=['Dicom Diagnosis', 'CRSr::Best Computed Outcome'])\n",
    "cf_agg_samediagdicom_norm = df_to_unicode_fast(cf_agg_samediagdicom.reset_index())\n",
    "save_df_as_csv(cf_agg_samediagdicom_norm.fillna(''), fmp_agg_csv+'_samediagdicom.csv', fields_order=cf_agg_diffdiagdicom_norm.columns, keep_index=True)\n",
    "cf_agg_samediagdicom"
   ]
  },
  {
   "cell_type": "code",
   "execution_count": null,
   "metadata": {
    "scrolled": false
   },
   "outputs": [],
   "source": [
    "# Plot repartition of differing diagnoses\n",
    "fig = plt.figure()\n",
    "tmp = cf_agg_diffdiagdicom['CRSr::Best Computed Outcome'].value_counts(dropna=plot_hide_nan)\n",
    "tmp.plot(fig=fig, kind='pie', title='Diagnosis repartition for fluctuating patients\\n(different diagnosis on scan day)\\n%i sessions' % sum(tmp), autopct='%.1f%%', figsize=(6,6))\n",
    "plt.axis('off')\n",
    "fig.savefig('fig_diffdiag.png', bbox_inches='tight', dpi=600)"
   ]
  },
  {
   "cell_type": "code",
   "execution_count": null,
   "metadata": {},
   "outputs": [],
   "source": [
    "# Plot repartition of same/stable diagnoses\n",
    "fig = plt.figure()\n",
    "tmp = cf_agg_samediagdicom['CRSr::Best Computed Outcome'].value_counts(dropna=plot_hide_nan)\n",
    "tmp.plot(fig=fig, kind='pie', title='Diagnosis repartition for stable patients\\n(same diagnosis on scan day)\\n%i sessions' % sum(tmp), autopct='%.1f%%', figsize=(6,6))\n",
    "plt.axis('off')\n",
    "fig.savefig('fig_samediag.png', bbox_inches='tight', dpi=600)"
   ]
  },
  {
   "cell_type": "code",
   "execution_count": null,
   "metadata": {},
   "outputs": [],
   "source": [
    "# Plot the EPI sedation repartition using Dicom Path Sedation\n",
    "cf_agg_sedat.loc[cf_agg_sedat['Dicom Path Sedation'] == 'yes', 'Dicom Path Sedation']\n",
    "cf_agg_sedat['Dicom Path Sedation'] = cf_agg_sedat['Dicom Path Sedation'].str.strip()\n",
    "fig = plt.figure()\n",
    "tmp = cf_agg_sedat['Dicom Path Sedation'].str.strip().value_counts(dropna=plot_hide_nan)\n",
    "tmp.plot(fig=fig, kind='pie', title='Dicom Path Sedation (%i patients)' % tmp.sum(), autopct='%.0f%%', figsize=(6, 6))\n",
    "fig.savefig('fig_mri-epi-dicompathsedation.png', bbox_inches='tight', dpi=600)\n",
    "tmp"
   ]
  }
 ],
 "metadata": {
  "kernelspec": {
   "display_name": "Python 2",
   "language": "python",
   "name": "python2"
  },
  "language_info": {
   "codemirror_mode": {
    "name": "ipython",
    "version": 2
   },
   "file_extension": ".py",
   "mimetype": "text/x-python",
   "name": "python",
   "nbconvert_exporter": "python",
   "pygments_lexer": "ipython2",
   "version": "2.7.15"
  }
 },
 "nbformat": 4,
 "nbformat_minor": 2
}
