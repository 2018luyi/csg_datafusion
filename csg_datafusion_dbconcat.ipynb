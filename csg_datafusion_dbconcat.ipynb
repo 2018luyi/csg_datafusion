{
 "cells": [
  {
   "cell_type": "markdown",
   "metadata": {},
   "source": [
    "# Simple excel csv files concatenation, because Excel will mess up long csv files\n",
    "by Stephen Karl Larroque\n",
    "MIT License\n",
    "v0.1.0"
   ]
  },
  {
   "cell_type": "code",
   "execution_count": null,
   "metadata": {},
   "outputs": [],
   "source": [
    "# Forcefully autoreload all python modules\n",
    "%load_ext autoreload\n",
    "%autoreload 2"
   ]
  },
  {
   "cell_type": "code",
   "execution_count": null,
   "metadata": {},
   "outputs": [],
   "source": [
    "# AUX FUNCTIONS\n",
    "\n",
    "import os, sys\n",
    "\n",
    "cur_path = os.path.realpath('.')\n",
    "sys.path.append(os.path.join(cur_path, 'csg_fileutil_libs'))  # for unidecode and cleanup_name, because it does not support relative paths (yet?)\n",
    "\n",
    "from csg_fileutil_libs.aux_funcs import save_df_as_csv, df_to_unicode_fast"
   ]
  },
  {
   "cell_type": "code",
   "execution_count": null,
   "metadata": {},
   "outputs": [],
   "source": [
    "# PARAMETERS\n",
    "db1 = r'G:\\hyperc_doc\\movement_parameters.csv'\n",
    "db2 = r'G:\\hyperc_doc\\movement_parameters_kpacs.csv'\n",
    "output = r'G:\\hyperc_doc\\movement_parameters_and_kpacs.csv'"
   ]
  },
  {
   "cell_type": "code",
   "execution_count": null,
   "metadata": {},
   "outputs": [],
   "source": [
    "# Import the csv db as dataframe\n",
    "import pandas as pd\n",
    "\n",
    "cf_db1 = pd.read_csv(db1, sep=';', low_memory=False).dropna(axis=0, how='all').fillna('')  # drop empty lines\n",
    "cf_db1 = df_to_unicode_fast(cf_db1, progress_bar=True)  # convert to unicode (can fix issues with accentuated characters)\n",
    "cf_db1"
   ]
  },
  {
   "cell_type": "code",
   "execution_count": null,
   "metadata": {},
   "outputs": [],
   "source": [
    "cf_db2 = pd.read_csv(db2, sep=';', low_memory=False).dropna(axis=0, how='all').fillna('')  # drop empty lines\n",
    "cf_db2 = df_to_unicode_fast(cf_db2, progress_bar=True)  # convert to unicode (can fix issues with accentuated characters)\n",
    "cf_db2"
   ]
  },
  {
   "cell_type": "code",
   "execution_count": null,
   "metadata": {},
   "outputs": [],
   "source": [
    "cf_concat = pd.concat([cf_db1, cf_db2]).reset_index(drop=True)\n",
    "cf_concat"
   ]
  },
  {
   "cell_type": "code",
   "execution_count": null,
   "metadata": {},
   "outputs": [],
   "source": [
    "if save_df_as_csv(cf_concat, output, fields_order=False, keep_index=False):\n",
    "    print('Merged database successfully saved in %s!' % output)\n",
    "else:\n",
    "    print('ERROR: the merged database could not be saved!')"
   ]
  },
  {
   "cell_type": "code",
   "execution_count": null,
   "metadata": {},
   "outputs": [],
   "source": []
  }
 ],
 "metadata": {
  "kernelspec": {
   "display_name": "Python 2",
   "language": "python",
   "name": "python2"
  },
  "language_info": {
   "codemirror_mode": {
    "name": "ipython",
    "version": 2
   },
   "file_extension": ".py",
   "mimetype": "text/x-python",
   "name": "python",
   "nbconvert_exporter": "python",
   "pygments_lexer": "ipython2",
   "version": "2.7.15"
  }
 },
 "nbformat": 4,
 "nbformat_minor": 2
}
